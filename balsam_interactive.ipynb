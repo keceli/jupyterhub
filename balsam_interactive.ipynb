{
 "cells": [
  {
   "cell_type": "markdown",
   "metadata": {},
   "source": [
    "# Set-up\n",
    "Load balsam environment and widgets"
   ]
  },
  {
   "cell_type": "code",
   "execution_count": 1,
   "metadata": {},
   "outputs": [],
   "source": [
    "# The magic commands below allow reflecting the changes in an imported module without restarting the kernel.\n",
    "%load_ext autoreload\n",
    "%autoreload 2\n",
    "\n",
    "# We need to add balsam and the modules it depends on to the Python search paths. \n",
    "import sys\n",
    "sys.path.insert(0,'/soft/datascience/Balsam/0.3.5.1/env/lib/python3.6/site-packages/')\n",
    "sys.path.insert(0,'/soft/datascience/Balsam/0.3.5.1/')\n",
    "\n",
    "# We also need balsam and postgresql to be in the path. (Misha suggests this may not be necessary)\n",
    "import os\n",
    "os.environ['PATH'] ='/soft/datascience/Balsam/0.3.5.1/env/bin/:' + os.environ['PATH']\n",
    "os.environ['PATH'] +=':/soft/datascience/PostgreSQL/9.6.12/bin/'\n",
    "\n",
    "try:\n",
    "    import balsam\n",
    "except:\n",
    "    print('Cannot find balsam, make sure balsam is installed or it is available in Python search paths')    \n",
    "\n",
    "# Import widgets\n",
    "from ipywidgets import interact, interactive\n",
    "from ipywidgets import fixed, interact_manual \n",
    "from ipywidgets import Textarea, widgets, Layout, Accordion\n",
    "from ipywidgets import VBox, HBox, Box, Text, BoundedIntText"
   ]
  },
  {
   "cell_type": "markdown",
   "metadata": {},
   "source": [
    "# Activate Balsam database\n",
    "Select your database from the dropdown list.\n",
    "You can find more info on Balsam at https://balsam.readthedocs.io/en/latest/."
   ]
  },
  {
   "cell_type": "code",
   "execution_count": 2,
   "metadata": {},
   "outputs": [
    {
     "name": "stdout",
     "output_type": "stream",
     "text": [
      "There are 7 Balsam databases available.\n",
      "0: \n",
      "1: /lus/theta-fs0/projects/datascience/keceli/valence_balsam/balsamdb\n",
      "2: /lus/theta-fs0/projects/datascience/keceli/balsam/nwchem_demo/db\n",
      "3: /lus/theta-fs0/projects/datascience/keceli/balsam/simint/simint_db\n",
      "4: /lus/theta-fs0/projects/datascience/keceli/balsam/balsamdb_general\n",
      "5: /lus/theta-fs0/projects/datascience/keceli/balsam/jupyter_test\n",
      "6: /lus/theta-fs0/projects/connectomics_aesp/balsam_database\n"
     ]
    },
    {
     "data": {
      "application/vnd.jupyter.widget-view+json": {
       "model_id": "344490bd032c457992a16b9171cac30f",
       "version_major": 2,
       "version_minor": 0
      },
      "text/plain": [
       "interactive(children=(Dropdown(description='db', options=((0, ''), (1, '/lus/theta-fs0/projects/datascience/ke…"
      ]
     },
     "metadata": {},
     "output_type": "display_data"
    }
   ],
   "source": [
    "from balsam.django_config.db_index import refresh_db_index\n",
    "databasepaths = ['']\n",
    "databasepaths.extend(refresh_db_index())\n",
    "print(f'There are {len(databasepaths)} Balsam databases available.')\n",
    "for i,db in enumerate(databasepaths):\n",
    "    print(f'{i}: {db}')\n",
    "\n",
    "@interact(db=[(i,db) for i,db in enumerate(databasepaths)])\n",
    "def activate_database(db=''):\n",
    "    \"\"\"\n",
    "    Activates Balsam database by setting the BALSAM_DB_PATH environment variable.\n",
    "    Note: Once BALSAM_DB_PATH is set, you need to restart Jupyter kernel to change it again.\n",
    "    \"\"\"\n",
    "    os.environ[\"BALSAM_DB_PATH\"] = db\n",
    "    print(f'Selected database: {os.environ[\"BALSAM_DB_PATH\"]}')"
   ]
  },
  {
   "cell_type": "markdown",
   "metadata": {},
   "source": [
    "# Apps"
   ]
  },
  {
   "cell_type": "code",
   "execution_count": 4,
   "metadata": {},
   "outputs": [
    {
     "name": "stdout",
     "output_type": "stream",
     "text": [
      "List of available aps in /lus/theta-fs0/projects/datascience/keceli/valence_balsam/balsamdb\n",
      "0: valence\n",
      "1: say-hello\n",
      "2: simint_avx512\n",
      "3: simint_avx2\n",
      "4: simint_avx\n",
      "5: simint_scalar\n",
      "6: valence_avx512\n",
      "7: valence_avx2\n",
      "8: valence190705\n",
      "9: valence190707\n",
      "10: valence_scalar_190707\n"
     ]
    }
   ],
   "source": [
    "from balsam.core.models import ApplicationDefinition as App\n",
    "import os\n",
    "apps = App.objects.all()\n",
    "print(f'List of available aps in {os.environ[\"BALSAM_DB_PATH\"]}')\n",
    "for i,app in enumerate(apps):\n",
    "    print(f'{i}: {app.name}')"
   ]
  },
  {
   "cell_type": "markdown",
   "metadata": {},
   "source": [
    "# Balsam jobs\n",
    "You can see info about your balsam jobs, for verbose info use the cell below with the job id."
   ]
  },
  {
   "cell_type": "code",
   "execution_count": 5,
   "metadata": {},
   "outputs": [
    {
     "data": {
      "application/vnd.jupyter.widget-view+json": {
       "model_id": "4b79d0ad85174004b60ccd1c5deb9a69",
       "version_major": 2,
       "version_minor": 0
      },
      "text/plain": [
       "interactive(children=(Dropdown(description='state', options=('ALL', 'CREATED', 'AWAITING_PARENTS', 'READY', 'S…"
      ]
     },
     "metadata": {},
     "output_type": "display_data"
    }
   ],
   "source": [
    "from balsam.launcher.dag import BalsamJob as Job\n",
    "from balsam.core.models import ApplicationDefinition as App\n",
    "allstates = ['ALL',\n",
    "             'CREATED',\n",
    "             'AWAITING_PARENTS',\n",
    "             'READY',\n",
    "             'STAGED_IN',\n",
    "             'PREPROCESSED',\n",
    "             'RUNNING',\n",
    "             'RUN_DONE',\n",
    "             'POSTPROCESSED',\n",
    "             'JOB_FINISHED',\n",
    "             'RUN_TIMEOUT',\n",
    "             'RUN_ERROR',\n",
    "             'RESTART_READY',\n",
    "             'FAILED',\n",
    "             'USER_KILLED']\n",
    "allworkflows = [wf['workflow'] for wf in Job.objects.order_by().values('workflow').distinct()]\n",
    "allworkflows.append('ALL')\n",
    "allapps = [app.name for app in App.objects.all()]\n",
    "allapps.append('ALL')\n",
    "@interact(state=allstates,workflow=allworkflows,app=allapps,name='')\n",
    "def list_jobs(state='ALL',workflow='ALL',app='ALL',name=''):\n",
    "    jobs = Job.objects.all()\n",
    "    print(f'Total number of jobs: {len(jobs)}')\n",
    "    if state != 'ALL':\n",
    "        jobs = jobs.filter(state=state)\n",
    "    if workflow != 'ALL':\n",
    "        jobs = jobs.filter(workflow=workflow)\n",
    "    if app != 'ALL':\n",
    "        jobs = jobs.filter(application=app)\n",
    "    if name:\n",
    "        jobs = jobs.filter(name__icontains=name)\n",
    "    print(f'Selected number of jobs: {len(jobs)}')\n",
    "    if len(jobs) > 0: \n",
    "        t = '{:<20}'.format('Name')\n",
    "        t += ' {:>8}'.format('Nodes')\n",
    "        t += ' {:>12}'.format('Ranks')\n",
    "        t += ' {:^8}'.format('ID')\n",
    "        if state =='JOB_FINISHED':\n",
    "            t += '{:>12}'.format('Runtime')\n",
    "        elif state =='ALL':\n",
    "            t += '{:>15}'.format('State')\n",
    "        print(t)\n",
    "        for job in jobs:\n",
    "            s = '{:<20.15}'.format(job.name)\n",
    "            s += ' {:>8}'.format(job.num_nodes)\n",
    "            s += ' {:>12}'.format(job.num_ranks)\n",
    "            s += '  {:>8}'.format(str(job.job_id).split('-')[0])            \n",
    "\n",
    "            if state =='JOB_FINISHED':\n",
    "                s += '{:>12.3f}'.format(job.runtime_seconds)\n",
    "            elif state =='ALL':\n",
    "                s += '{:>15}'.format(job.state)\n",
    "            print(s)"
   ]
  },
  {
   "cell_type": "markdown",
   "metadata": {},
   "source": [
    "# Balsam job\n",
    "Verbose info for a given job id"
   ]
  },
  {
   "cell_type": "code",
   "execution_count": 7,
   "metadata": {},
   "outputs": [
    {
     "data": {
      "application/vnd.jupyter.widget-view+json": {
       "model_id": "0f3d3ea77b224cefa960f5f49a7fcb56",
       "version_major": 2,
       "version_minor": 0
      },
      "text/plain": [
       "interactive(children=(Text(value='', description='job_id'), Checkbox(value=False, description='show_output'), …"
      ]
     },
     "metadata": {},
     "output_type": "display_data"
    }
   ],
   "source": [
    "#def print_job_info(id=''):\n",
    "@interact(job_id='',show_output=False)\n",
    "def get_job_info(job_id='',show_output=False):\n",
    "    \"\"\"\n",
    "    Prints verbose job info for a given job id.\n",
    "    Parameters\n",
    "    ----------\n",
    "    job_id: str, Partial or full Balsam job id.\n",
    "    \"\"\"\n",
    "    from balsam.launcher.dag import BalsamJob as Job\n",
    "    jobs = Job.objects.all().filter(job_id__contains=job_id)\n",
    "    if len(jobs) == 1:\n",
    "        thejob = jobs[0]\n",
    "        print(jobs[0])\n",
    "        if show_output:\n",
    "            output = f'{thejob.working_directory}/{thejob.name}.out'\n",
    "            with open(output) as f:\n",
    "                out = f.read()\n",
    "            print(f'Output file {output} content:')\n",
    "            print(out)\n",
    "    elif len(jobs) == 0:\n",
    "        print('No matching jobs')\n",
    "    else:\n",
    "        print(f'{len(jobs)} jobs matched, enter full id.')"
   ]
  }
 ],
 "metadata": {
  "kernelspec": {
   "display_name": "Python 3",
   "language": "python",
   "name": "python3"
  },
  "language_info": {
   "codemirror_mode": {
    "name": "ipython",
    "version": 3
   },
   "file_extension": ".py",
   "mimetype": "text/x-python",
   "name": "python",
   "nbconvert_exporter": "python",
   "pygments_lexer": "ipython3",
   "version": "3.6.8"
  }
 },
 "nbformat": 4,
 "nbformat_minor": 2
}
