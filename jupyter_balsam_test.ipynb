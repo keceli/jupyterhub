{
 "cells": [
  {
   "cell_type": "code",
   "execution_count": 1,
   "metadata": {},
   "outputs": [
    {
     "name": "stdout",
     "output_type": "stream",
     "text": [
      "(\"Python search path includes: ['/soft/datascience/Balsam/0.3.5.1/', \"\n",
      " \"'/soft/datascience/Balsam/0.3.5.1/env/lib/python3.6/site-packages/', '', \"\n",
      " \"'/opt/anaconda3/lib/python36.zip', '/opt/anaconda3/lib/python3.6', \"\n",
      " \"'/opt/anaconda3/lib/python3.6/lib-dynload', \"\n",
      " \"'/opt/anaconda3/lib/python3.6/site-packages', \"\n",
      " \"'/opt/anaconda3/lib/python3.6/site-packages/Mako-1.0.7-py3.6.egg', \"\n",
      " \"'/opt/anaconda3/lib/python3.6/site-packages/IPython/extensions', \"\n",
      " \"'/gpfs/mira-home/keceli/.ipython']\")\n"
     ]
    }
   ],
   "source": [
    "# The magic commands below allow reflecting the changes in an imported module without restarting the kernel.\n",
    "%load_ext autoreload\n",
    "%autoreload 2\n",
    "\n",
    "# We need to add balsam and the modules it depends on to the Python search paths. \n",
    "import sys\n",
    "sys.path.insert(0,'/soft/datascience/Balsam/0.3.5.1/env/lib/python3.6/site-packages/')\n",
    "sys.path.insert(0,'/soft/datascience/Balsam/0.3.5.1/')\n",
    "from pprint import pprint\n",
    "pprint(f'Python search path includes: {sys.path}')\n",
    "\n",
    "# We also need postgresql to be in the path\n",
    "import os\n",
    "os.environ['PATH'] ='/soft/datascience/Balsam/0.3.5.1/env/bin/:' + os.environ['PATH']\n",
    "os.environ['PATH'] +=':/soft/datascience/PostgreSQL/9.6.12/bin/'\n",
    "\n",
    "try:\n",
    "    import balsam\n",
    "except:\n",
    "    print('Cannot find balsam, make sure balsam is installed or it is available in Python search paths')    \n",
    "\n",
    "    # We also need to activate Balsam database by setting the BALSAM_DB_PATH environment variable. \n",
    "# This is equivalent to `source balsamactivate jupyter_test` \n",
    "os.environ[\"BALSAM_DB_PATH\"]='/lus/theta-fs0/projects/datascience/keceli/balsam/jupyter_test'"
   ]
  },
  {
   "cell_type": "code",
   "execution_count": 2,
   "metadata": {},
   "outputs": [],
   "source": [
    "def get_database_paths(verbose=True):\n",
    "    \"\"\"\n",
    "    Prints the paths for existing balsam databases\n",
    "    \"\"\"\n",
    "    try:\n",
    "        from balsam.django_config.db_index import refresh_db_index\n",
    "        databasepaths = refresh_db_index()\n",
    "    except:\n",
    "        databasepaths = None\n",
    "    if verbose:\n",
    "        if len(databasepaths) > 0:\n",
    "            print(f'Found {len(databasepaths)} balsam database location')\n",
    "            for db in databasepaths:\n",
    "                print(db)\n",
    "        else:\n",
    "            print('No balsam database found')\n",
    "    return databasepaths\n",
    "\n",
    "def get_active_database(verbose=True):\n",
    "    \"\"\"\n",
    "    Gets the activate database set in environment variable BALSAM_DB_PATH\n",
    "    Parameters:\n",
    "    verbose: Boolean, (True): Prints verbose info (False): No print\n",
    "    Returns\n",
    "    -------\n",
    "    str, path for the active database\n",
    "    \"\"\"\n",
    "    try:\n",
    "        db = os.environ[\"BALSAM_DB_PATH\"]\n",
    "        if verbose: print(f'Active balsam database path: {db}')\n",
    "    except:\n",
    "        if verbose: print('BALSAM_DB_PATH is not set')\n",
    "        db = None\n",
    "    return db\n",
    "    \n",
    "def add_app(name, executable, description='', envscript='', preprocess='', postprocess='', checkexe=False):\n",
    "    \"\"\"\n",
    "    Adds a new app to the balsam database.\n",
    "    \"\"\"\n",
    "    from balsam.core.models import ApplicationDefinition as App\n",
    "    import shutil\n",
    "    newapp = App()\n",
    "    if checkexe:\n",
    "        if shutil.which(executable):        \n",
    "            print('{} is found'.format(executable))\n",
    "        else:\n",
    "            print('{} is not found'.format(executable))\n",
    "            return newapp\n",
    "        \n",
    "    if App.objects.filter(name=name).exists():\n",
    "        print(\"An application named {} already exists\".format(name))\n",
    "    else:\n",
    "        newapp.name        = name\n",
    "        newapp.executable  = executable\n",
    "        newapp.description = description\n",
    "        newapp.envscript   = envscript\n",
    "        newapp.preprocess  = preprocess\n",
    "        newapp.postprocess = postprocess\n",
    "        newapp.save()\n",
    "    return newapp\n",
    "\n",
    "def get_apps(verbose=True):\n",
    "    \"\"\"\n",
    "    Returns all apps as a list\n",
    "    \"\"\"\n",
    "    try:\n",
    "        from balsam.core.models import ApplicationDefinition as App\n",
    "        apps = App.objects.all()\n",
    "    except:\n",
    "        apps = None\n",
    "    return apps\n",
    "        \n",
    "def get_job():\n",
    "    from balsam.launcher.dag import BalsamJob\n",
    "    return BalsamJob()\n",
    "\n",
    "def add_job(name, workflow, application, description='', args='', num_nodes=1, ranks_per_node=1,cpu_affinity='depth',data={},environ_vars={}):\n",
    "    from balsam.launcher.dag import BalsamJob\n",
    "    job                = BalsamJob()\n",
    "    job.name           = name\n",
    "    job.workflow       = workflow\n",
    "    job.application    = application\n",
    "    job.description    = description\n",
    "    job.args           = args\n",
    "    job.num_nodes      = num_nodes\n",
    "    job.ranks_per_node = ranks_per_node\n",
    "    job.cpu_affinity   = cpu_affinity\n",
    "    job.environ_vars   = environ_vars\n",
    "    job.data           = {}\n",
    "    job.save()\n",
    "    \n",
    "def submit(project='datascience',queue='debug-flat-quad',nodes=1,wall_minutes=30,job_mode='mpi',wf_filter=''):\n",
    "    from balsam import setup\n",
    "    setup()\n",
    "    from balsam.service import service\n",
    "    from balsam.core import models\n",
    "    QueuedLaunch = models.QueuedLaunch\n",
    "    mylaunch = QueuedLaunch()\n",
    "    mylaunch.project = project\n",
    "    mylaunch.queue = queue\n",
    "    mylaunch.nodes = nodes\n",
    "    mylaunch.wall_minutes = wall_minutes\n",
    "    mylaunch.job_mode = job_mode\n",
    "    mylaunch.wf_filter = wf_filter\n",
    "    mylaunch.prescheduled_only=False\n",
    "    mylaunch.save()\n",
    "    service.submit_qlaunch(mylaunch, verbose=True)"
   ]
  },
  {
   "cell_type": "code",
   "execution_count": 23,
   "metadata": {},
   "outputs": [
    {
     "name": "stdout",
     "output_type": "stream",
     "text": [
      "An application named sleep already exists\n"
     ]
    },
    {
     "data": {
      "text/plain": [
       "Application None:\n",
       "-----------------------\n",
       "name:                           \n",
       "description:                    \n",
       "executable:                     \n",
       "preprocess:                     \n",
       "envscript:                      \n",
       "postprocess:                    "
      ]
     },
     "execution_count": 23,
     "metadata": {},
     "output_type": "execute_result"
    }
   ],
   "source": [
    "# Add an app that executes `sleep` command, which pauses for a given number of seconds.\n",
    "# If app already exists, you don't need to do anything\n",
    "add_app(name='sleep',executable='sleep',description='Pause for a given number of seconds, see `sleep --help` linux command')"
   ]
  },
  {
   "cell_type": "code",
   "execution_count": 18,
   "metadata": {},
   "outputs": [],
   "source": [
    "# A simple test for adding 5 jobs that  pauses 0, 10, 20, 30, 40 seconds\n",
    "for i in range(5):\n",
    "    t = i*10\n",
    "    add_job(name=f'sleep_{t}',workflow='sleep_test1',application='sleep',args=f'{t}')\n",
    "    "
   ]
  },
  {
   "cell_type": "code",
   "execution_count": 25,
   "metadata": {},
   "outputs": [
    {
     "name": "stdout",
     "output_type": "stream",
     "text": [
      "Submit OK: Qlaunch {   'command': '/lus/theta-fs0/projects/datascience/keceli/balsam/jupyter_test/qsubmit/qlaunch4.sh',\n",
      "    'from_balsam': True,\n",
      "    'id': 4,\n",
      "    'job_mode': 'mpi',\n",
      "    'nodes': 1,\n",
      "    'prescheduled_only': False,\n",
      "    'project': 'datascience',\n",
      "    'queue': 'debug-flat-quad',\n",
      "    'scheduler_id': 352681,\n",
      "    'state': 'submitted',\n",
      "    'wall_minutes': 25,\n",
      "    'wf_filter': ''}\n"
     ]
    }
   ],
   "source": [
    "# If you see 'Submit OK:', Job submission is succesful.\n",
    "submit()"
   ]
  },
  {
   "cell_type": "code",
   "execution_count": 3,
   "metadata": {},
   "outputs": [
    {
     "name": "stdout",
     "output_type": "stream",
     "text": [
      "mpibench_32 20.882527\n",
      "sleep_22 27.883907\n",
      "sleep_33 38.882066\n",
      "sleep_44 49.883403\n",
      "sleep_10 13.882113\n",
      "sleep_20 25.88482\n",
      "sleep_40 45.881849\n",
      "sleep_0 5.888986\n",
      "sleep_30 35.886307\n",
      "mpibench_4 7.881661\n",
      "sleep_0 3.88008\n",
      "mpibench_8 11.885939\n",
      "sleep_11 16.8839\n",
      "mpibench_16 14.882554\n",
      "mpibench_1 6.881617\n",
      "mpibench_2 8.882998\n"
     ]
    }
   ],
   "source": [
    "# You can check run times after job is completed. \n",
    "# You may see ~ 5 - 10 seconds longer runtimes than the sleep times due to initializations.\n",
    "from balsam.launcher.dag import BalsamJob\n",
    "for j in BalsamJob.objects.filter(state='JOB_FINISHED').all():\n",
    "    print(j.name,j.runtime_seconds)"
   ]
  },
  {
   "cell_type": "code",
   "execution_count": 4,
   "metadata": {},
   "outputs": [
    {
     "name": "stdout",
     "output_type": "stream",
     "text": [
      "mpibench_32 JOB_FINISHED\n",
      "sleep_22 JOB_FINISHED\n",
      "sleep_33 JOB_FINISHED\n",
      "sleep_44 JOB_FINISHED\n",
      "sleep_10 JOB_FINISHED\n",
      "sleep_20 JOB_FINISHED\n",
      "sleep_40 JOB_FINISHED\n",
      "mpibench_64 PREPROCESSED\n",
      "sleep_0 JOB_FINISHED\n",
      "mpibench_64 PREPROCESSED\n",
      "sleep_30 JOB_FINISHED\n",
      "mpibench_64 PREPROCESSED\n",
      "mpibench_4 JOB_FINISHED\n",
      "sleep_0 JOB_FINISHED\n",
      "mpibench_8 JOB_FINISHED\n",
      "sleep_11 JOB_FINISHED\n",
      "mpibench_16 JOB_FINISHED\n",
      "mpibench_1 JOB_FINISHED\n",
      "mpibench_64 PREPROCESSED\n",
      "mpibench_64 PREPROCESSED\n",
      "mpibench_64 PREPROCESSED\n",
      "mpibench_2 JOB_FINISHED\n"
     ]
    }
   ],
   "source": [
    "for j in BalsamJob.objects.all():\n",
    "    print(j.name,j.state)"
   ]
  },
  {
   "cell_type": "code",
   "execution_count": null,
   "metadata": {},
   "outputs": [],
   "source": []
  }
 ],
 "metadata": {
  "kernelspec": {
   "display_name": "Python 3",
   "language": "python",
   "name": "python3"
  },
  "language_info": {
   "codemirror_mode": {
    "name": "ipython",
    "version": 3
   },
   "file_extension": ".py",
   "mimetype": "text/x-python",
   "name": "python",
   "nbconvert_exporter": "python",
   "pygments_lexer": "ipython3",
   "version": "3.6.8"
  }
 },
 "nbformat": 4,
 "nbformat_minor": 2
}
